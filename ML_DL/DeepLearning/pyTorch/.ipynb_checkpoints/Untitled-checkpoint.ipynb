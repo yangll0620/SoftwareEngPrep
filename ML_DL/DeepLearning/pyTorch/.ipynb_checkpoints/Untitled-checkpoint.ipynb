{
 "cells": [
  {
   "cell_type": "code",
   "execution_count": null,
   "id": "a1ba3ec6",
   "metadata": {},
   "outputs": [],
   "source": [
    "class DataGeneratorBase(torch.utils.data.IterableDataset):    \n",
    "    def __init__(self, cohort, sample_loader):\n",
    "        'Initialization'\n",
    "        self.sample_loader = sample_loader  \n",
    "        self.cohort = cohort\n",
    "   \n",
    "    def image_count(self):\n",
    "        return len(self.cohort)\n",
    "         \n",
    "    def load_cache(self):\n",
    "        'load 1 image with its augmentations till reaching the end'\n",
    "        if self.cache.empty():\n",
    "            for _ in range(self.sample_per_load):\n",
    "                image_id = numpy.random.randint(0,self.image_count())\n",
    "                images,labels = self.sample_loader.load_image_label_pair(self.cohort[image_id:image_id+1])\n",
    "                for i in range(0,len(images)):\n",
    "                    self.cache.put([images[i],labels[i]])\n",
    "        return True\n",
    "\n",
    "\n",
    "    def __iter__(self):\n",
    "        return self\n",
    "   \n",
    "    def __next__(self):\n",
    "        if self.load_cache():\n",
    "            return self.cache.get()"
   ]
  }
 ],
 "metadata": {
  "kernelspec": {
   "display_name": "Python 3 (ipykernel)",
   "language": "python",
   "name": "python3"
  },
  "language_info": {
   "codemirror_mode": {
    "name": "ipython",
    "version": 3
   },
   "file_extension": ".py",
   "mimetype": "text/x-python",
   "name": "python",
   "nbconvert_exporter": "python",
   "pygments_lexer": "ipython3",
   "version": "3.10.11"
  }
 },
 "nbformat": 4,
 "nbformat_minor": 5
}
