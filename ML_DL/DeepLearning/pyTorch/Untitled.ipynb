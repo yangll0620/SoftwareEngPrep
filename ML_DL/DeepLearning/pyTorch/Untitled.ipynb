{
 "cells": [
  {
   "cell_type": "code",
   "execution_count": 79,
   "id": "032069fc",
   "metadata": {},
   "outputs": [
    {
     "name": "stdout",
     "output_type": "stream",
     "text": [
      "The shape of image = (128, 128, 128)\n",
      "The shape of downsample_img = (64, 64, 64)\n"
     ]
    }
   ],
   "source": [
    "import numpy as np\n",
    "\n",
    "def downsample_3dimage(image, down_factor = 2, method = 'skipn'):\n",
    "    '''\n",
    "        down sample a 3d image by down_factor\n",
    "        \n",
    "        args:\n",
    "            image: the input image represented by a numpy.ndarray\n",
    "            down_factor: a down sampling factor , should be a positive integer\n",
    "            method: the method used for downsampling, current only 'skipn, can add different method if needed\n",
    "                    'skipn': select each down_factor elements along each axis\n",
    "\n",
    "            \n",
    "        return:\n",
    "            downsampled_image: the downsampled image represented by a numpy.ndarray\n",
    "        \n",
    "    '''\n",
    "    \n",
    "    assert isinstance(image, np.ndarray), 'input image is not numpy.ndarray'\n",
    "    assert image.ndim == 3, 'dimention of image is not 3'\n",
    "    assert isinstance(down_factor, int) and down_factor > 0, 'down_factor should be positive intger'\n",
    "    \n",
    "    \n",
    "    # can add different downsample method here\n",
    "    if method == 'skipn': \n",
    "        # skip each down_factor elements along each axis\n",
    "        downsampled_image = image[::down_factor, ::down_factor, ::down_factor]\n",
    "    \n",
    "    \n",
    "    return downsampled_image\n",
    "\n",
    "\n",
    "image = np.random.random((128, 128, 128))\n",
    "downsample_img = downsample_3dimage(image, down_factor = 2)\n",
    "\n",
    "print(f\"The shape of image = {image.shape}\")\n",
    "print(f\"The shape of downsample_img = {downsample_img.shape}\")"
   ]
  },
  {
   "cell_type": "code",
   "execution_count": 78,
   "id": "4d0c533d",
   "metadata": {},
   "outputs": [
    {
     "name": "stdout",
     "output_type": "stream",
     "text": [
      "<class 'numpy.ndarray'>\n"
     ]
    }
   ],
   "source": []
  },
  {
   "cell_type": "code",
   "execution_count": null,
   "id": "4c02fe73",
   "metadata": {},
   "outputs": [],
   "source": []
  }
 ],
 "metadata": {
  "kernelspec": {
   "display_name": "Python 3 (ipykernel)",
   "language": "python",
   "name": "python3"
  },
  "language_info": {
   "codemirror_mode": {
    "name": "ipython",
    "version": 3
   },
   "file_extension": ".py",
   "mimetype": "text/x-python",
   "name": "python",
   "nbconvert_exporter": "python",
   "pygments_lexer": "ipython3",
   "version": "3.10.11"
  }
 },
 "nbformat": 4,
 "nbformat_minor": 5
}
